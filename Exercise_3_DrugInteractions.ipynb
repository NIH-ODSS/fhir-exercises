{
 "cells": [
  {
   "cell_type": "markdown",
   "metadata": {},
   "source": [
    "# FHIR for Research Workshop - Exercise 3\n",
    "\n",
    "## Learning Objectives and Key Concepts\n",
    "\n",
    "In this exercise, you will: \n",
    "\n",
    "- Apply Knowledge from Exercises 0, 1, and 2\n",
    "- Attempt to complete each activity on your own individually\n",
    "- Query active Prescriptions in our Patient cohort\n",
    "- Understand the (non-FHIR) Drug-on-Drug Interaction API and learn how to query it\n",
    "- Combine the FHIR data with the non-FHIR API to determine Drug-on-Drug Interactions.\n",
    "\n",
    "## Drug on Drug Interactions\n",
    "For this exercise we will explore potential drug on drug interactions in a sizable patient cohort stored in FHIR combined with drug interaction data from the NIH's Drug RxNAV database. \n",
    "\n",
    "## Motivation/Purpose\n",
    "From a research persective we can envision leveraging these sorts of analyses to do post-market surveillance of drugs to determine both the rate of known adverse events among patients, as well as to potentially flag additional risks not yet identified. \n",
    "\n",
    "From a clinical perspective, this exercise demonstrates the ability for third-party data (in this case Drug on Drug interaction data), can be pulled in, paired with FHIR formatted clinical data, and then leveraged to better inform patient care in the form of Clinical Decision Support tools.\n",
    "\n",
    " ### Icons in this Guide\n",
    " 📘 A link to a useful external reference related to the section the icon appears in  \n",
    "\n",
    " 🖐 A hands-on section where you will code something or interact with the server  \n",
    "\n",
    "## Step 1: Query all active prescriptions in our patient cohort\n",
    "For this exercise we will call on the `MedicationRequest` which represents a medication prescription in FHIR.\n",
    "\n",
    "\n",
    "📘[Read more about the MedicationRequest Resource](https://www.hl7.org/fhir/medicationrequest.html) \n",
    "\n",
    "Each `MedicationRequest` represents a single prescription, such that you may have a many-to-one relationship between MedicationRequests and patients, as it is often the case that patients will have multiple prescriptions.\n",
    "\n",
    "\n",
    "(This fact will be critical for our exercise, as determining a potential drug on drug interaction will require effectively grouping `MedicationRequest` resources by patient, to determine if the patient is on multiple concurrent prescriptions. We will therefore want to make sure we can include the relevant patient information to ensure we can map multiple prescriptions to individual patients.)"
   ]
  },
  {
   "cell_type": "code",
   "execution_count": 5,
   "metadata": {},
   "outputs": [
    {
     "name": "stdout",
     "output_type": "stream",
     "text": [
      "Collecting git+https://github.com/leukeleu/jupyter-linenumbers\n",
      "  Cloning https://github.com/leukeleu/jupyter-linenumbers to /private/var/folders/jr/lv997hsd77n72q8g4ddnq6bh0000gn/T/pip-req-build-2c08f5l1\n",
      "  Running command git clone -q https://github.com/leukeleu/jupyter-linenumbers /private/var/folders/jr/lv997hsd77n72q8g4ddnq6bh0000gn/T/pip-req-build-2c08f5l1\n",
      "Requirement already satisfied (use --upgrade to upgrade): jupyter-linenumbers==0.2.1 from git+https://github.com/leukeleu/jupyter-linenumbers in /opt/anaconda3/lib/python3.7/site-packages\n",
      "Building wheels for collected packages: jupyter-linenumbers\n",
      "  Building wheel for jupyter-linenumbers (setup.py) ... \u001b[?25ldone\n",
      "\u001b[?25h  Created wheel for jupyter-linenumbers: filename=jupyter_linenumbers-0.2.1-cp37-none-any.whl size=3332 sha256=e3153a1442dff32696e05384fb0732c3af54547f98809e245eb0b37ce9f9f787\n",
      "  Stored in directory: /private/var/folders/jr/lv997hsd77n72q8g4ddnq6bh0000gn/T/pip-ephem-wheel-cache-9yuyt30w/wheels/b8/02/9e/1636fc9b03e9aaec2f4d8bc9021a5a9542c30fb7cb096f045c\n",
      "Successfully built jupyter-linenumbers\n",
      "Installing /opt/anaconda3/lib/python3.7/site-packages/linenumbers/static -> linenumbers\n",
      "Up to date: /Users/lionellevine/Library/Jupyter/nbextensions/linenumbers/linenumbers.js\n",
      "- Validating: \u001b[32mOK\u001b[0m\n",
      "\n",
      "    To initialize this nbextension in the browser every time the notebook (or other app) loads:\n",
      "    \n",
      "          jupyter nbextension enable linenumbers --user --py\n",
      "    \n",
      "Enabling notebook extension linenumbers/linenumbers...\n",
      "      - Validating: \u001b[32mOK\u001b[0m\n"
     ]
    }
   ],
   "source": [
    "! pip install git+https://github.com/leukeleu/jupyter-linenumbers\n",
    "!jupyter nbextension install --py linenumbers --user\n",
    "!jupyter nbextension enable --py linenumbers --user"
   ]
  },
  {
   "cell_type": "code",
   "execution_count": 2,
   "metadata": {},
   "outputs": [
    {
     "name": "stdout",
     "output_type": "stream",
     "text": [
      "Installing /opt/anaconda3/lib/python3.7/site-packages/linenumbers/static -> linenumbers\n",
      "Up to date: /Users/lionellevine/Library/Jupyter/nbextensions/linenumbers/linenumbers.js\n",
      "- Validating: \u001b[32mOK\u001b[0m\n",
      "\n",
      "    To initialize this nbextension in the browser every time the notebook (or other app) loads:\n",
      "    \n",
      "          jupyter nbextension enable linenumbers --user --py\n",
      "    \n",
      "Enabling notebook extension linenumbers/linenumbers...\n",
      "      - Validating: \u001b[32mOK\u001b[0m\n"
     ]
    }
   ],
   "source": []
  },
  {
   "cell_type": "code",
   "execution_count": 3,
   "metadata": {},
   "outputs": [
    {
     "name": "stdout",
     "output_type": "stream",
     "text": [
      "Enabling notebook extension linenumbers/linenumbers...\r\n",
      "      - Validating: \u001b[32mOK\u001b[0m\r\n"
     ]
    }
   ],
   "source": []
  },
  {
   "cell_type": "code",
   "execution_count": null,
   "metadata": {},
   "outputs": [],
   "source": [
    "# Python standard library API for dealing with json\n",
    "import json\n",
    "# For making HTTP requests to the FHIR server\n",
    "import requests\n",
    "# Python data analysis library\n",
    "import pandas as pd\n",
    "\n",
    "FHIR_SERVER = 'https://api.logicahealth.org/researchonfhir/open'\n",
    "\n",
    "# Configure requests session with standard headers\n",
    "s = requests.Session()\n",
    "s.headers.update({'Accept':'application/fhir+json', 'Content-Type': 'application/fhir+json'})\n",
    "\n",
    "# Optional: Turn off SSL verification. Useful when dealing with a corporate proxy with self-signed certificates.\n",
    "s.verify = False\n",
    "requests.packages.urllib3.disable_warnings()\n",
    "\n"
   ]
  },
  {
   "cell_type": "markdown",
   "metadata": {},
   "source": [
    "### Compose the FHIR query\n",
    "First compose a query to pull the `MedicationRequest` resource from the FHIR server. Then convert it to JSON format. Optionally, you could output the resulting JSON file to confirm that you've successfully queried the database."
   ]
  },
  {
   "cell_type": "markdown",
   "metadata": {},
   "source": [
    "### Question 3.1\n",
    "\n",
    "🖐 Fill in the URL to for retrieving `MedicationRequest` Resources"
   ]
  },
  {
   "cell_type": "code",
   "execution_count": null,
   "metadata": {},
   "outputs": [],
   "source": [
    "r = s.get(f\"{FHIR_SERVER}/FILLMEIN\")\n",
    "bundle = r.json()"
   ]
  },
  {
   "cell_type": "markdown",
   "metadata": {},
   "source": [
    "We can now leverage the methods we deployed previously in Exercises 1 and 2 to create a python list which contains only the Bundle.entry.resource elements from the bundle returned in the previous step. \n",
    "\n",
    "As a first step let's leverage the list mapping lambda function we deployed in Exercise 2 Section 1.1 ([Link to Exercise 2 solution here](https://github.com/mitre/fhir-exercises/blob/main/Solutions/Exercise_2_KidsFirst-SOLUTION.ipynb) for reference) to map out our JSON file (entering the entire bundle, and mapping by resource) \n",
    "\n",
    "As a sanity test let's return the first resource item (index 0 or [0]) so we can get a better look at what information we have to work with."
   ]
  },
  {
   "cell_type": "markdown",
   "metadata": {},
   "source": [
    "### Question 3.2\n",
    "🖐 Create a list of just the patient resources from the entries in the bundle"
   ]
  },
  {
   "cell_type": "code",
   "execution_count": null,
   "metadata": {},
   "outputs": [],
   "source": [
    "prescriptions = # To be completed...\n",
    "prescriptions[0]"
   ]
  },
  {
   "cell_type": "markdown",
   "metadata": {},
   "source": [
    "### Convert Data onto a Pandas Dataframe"
   ]
  },
  {
   "cell_type": "markdown",
   "metadata": {},
   "source": [
    "Now that we've confirmed that we've extracted information we need from our FHIR server, we will then take the FHIR formatted data and convert it into a pandas dataframe for subsequent analysis.\n",
    "\n",
    "Based on our previous exercises we know we can use the `json_normalize` function parse the JSON into a pandas dataframe. \n",
    "\n",
    "📘[Read more about `pandas.json_normalize`](https://pandas.pydata.org/docs/reference/api/pandas.json_normalize.html)\n",
    "\n",
    "You may want to use the `max_level` argument with `json_normalize` to cap the number of levels for the function to parse (in previous exercises we set the number = 10)\n",
    "\n",
    "Let's do that now and then output the resulting dataframe to confirm we've successfully converted it."
   ]
  },
  {
   "cell_type": "markdown",
   "metadata": {},
   "source": [
    "### Question 3.3\n",
    "🖐 Convert your json file into a pandas dataframe"
   ]
  },
  {
   "cell_type": "code",
   "execution_count": null,
   "metadata": {},
   "outputs": [],
   "source": [
    "pd.set_option('display.max_columns', None)\n",
    "df_prescriptions = # 🖐 Fill in this code...\n",
    "df_prescriptions.head()"
   ]
  },
  {
   "cell_type": "markdown",
   "metadata": {},
   "source": [
    "Depending on how you've parsed it, certain fields are immediately usable in their current form. For others, we're going to need to do further work to parse out the precise information we want to work with. For now though, we'll pause any additional feature engineering until we have a better sense of precisely what we'll want to use. \n",
    "\n",
    "So we now have a basic datafame with drug and patient information. Let's examine the drug interaction api to see what data we'll need to extract from our dataframe"
   ]
  },
  {
   "cell_type": "markdown",
   "metadata": {
    "tags": []
   },
   "source": [
    "## Step 2: Understanding the Drug API and using that API with FHIR data\n",
    "\n",
    "\n",
    "📘[Review the NIH's RXNav API documentation](https://lhncbc.nlm.nih.gov/RxNav/APIs/index.html)\n",
    "\n",
    "We see one clear option we have to use the six-digit RxNorm identifier code to query for drug interactions\n",
    "\n",
    "📘[Review RXNav API findInteractionsFromList API documentation](https://lhncbc.nlm.nih.gov/RxNav/APIs/api-Interaction.findInteractionsFromList.html)\n",
    "\n",
    "This correlates with our Patient data column: `resource.medicationCodeableConcept.coding.codes` (quite a mouthful! But we'll deal with that shortly).\n",
    "\n",
    "Let's pull two sample interactions using the following general notation:\n",
    "\n",
    "`https://rxnav.nlm.nih.gov/REST/interaction/list.json?rxcuis=[code 1]+[code 2]`\n",
    "\n",
    "\n",
    "Two combinations we can try are:\n",
    " - 207106 and 656659\n",
    " - 762675 and 859258"
   ]
  },
  {
   "cell_type": "markdown",
   "metadata": {},
   "source": [
    "### Question 3.4\n",
    " 🖐 For each drug combination call the API and display the JSON response"
   ]
  },
  {
   "cell_type": "code",
   "execution_count": null,
   "metadata": {},
   "outputs": [],
   "source": [
    "url = '' # Solve for for 207106 and 656659\n",
    "response = s.get(url, headers={'accept': 'application/json'})\n",
    "response.json()"
   ]
  },
  {
   "cell_type": "code",
   "execution_count": null,
   "metadata": {},
   "outputs": [],
   "source": [
    "url = '' # Solve for for 762675 and 859258\n",
    "response = s.get(url, headers={'accept': 'application/json'})\n",
    "response.json()"
   ]
  },
  {
   "cell_type": "markdown",
   "metadata": {},
   "source": [
    "Feel free to experiment with additional drug combinations, including 3 or more drugs to see how the information varies.\n",
    "\n",
    "Reviewing the returned output we can begin to analyze the information provided, and assess our approach. Why are the RxNorm codes in the interactionPair different than what we sent? Do we need to care about severity? What other elements could be present and where are the descriptions indicating what each element represents (hint should we be looking back at the API docs to interpret?)\n",
    "\n",
    "Taking stock, we have successfully accessed the Drug API, and hopefully now have an understanding of what the API returns when there is a drug interaction versus when there isn't.\n",
    "\n",
    "We now have important information informing our next steps. \n",
    "\n",
    "First, we have a structured target to work toward for submitting our patient data to the Drug API. For each patient, we will need to compile a list of RxNorm codes of the prescriptions they are on, and then append them to our API query with a `+` or `%20` between each code. For our next step we'll go about constructing that!\n",
    "\n",
    "Second, we have an understanding of how the Drug API returns a known interaction, versus how it returns when there isn't one. We can begin to consider how the format of this data can be used to indicate - in bulk - the presence or absence of a reaction."
   ]
  },
  {
   "cell_type": "markdown",
   "metadata": {},
   "source": [
    "## Step 3: Construct a composite list of all drugs per-patient (so we can determine a potential Drug on Drug interaction\n",
    "\n",
    "So now we know that in order to engage our RxNorm server we need to extract and submit our patient's six digit RxNorm code, let's go back to our original mapped JSON data and try to do a list comprehension to extract just the RxNorm specific codes first."
   ]
  },
  {
   "cell_type": "code",
   "execution_count": null,
   "metadata": {},
   "outputs": [],
   "source": [
    "pd.DataFrame([codings['code'] for MedicationRequest in prescriptions for codings in MedicationRequest['medicationCodeableConcept']['coding'] if codings['system'] == 'http://www.nlm.nih.gov/research/umls/rxnorm']).head()"
   ]
  },
  {
   "cell_type": "markdown",
   "metadata": {},
   "source": [
    "If we look back at our `df_prescriptions` DataFrame we can see that we already have a column for `medicationCodeableConcept.coding`. Let's take a similar approach to what we did in exercise 2 to extend what we just did and write a function to extract rxnorm codes based on just the coding. From there we can apply it to the DataFrame to generate a new column with just the rxnorm code."
   ]
  },
  {
   "cell_type": "code",
   "execution_count": null,
   "metadata": {},
   "outputs": [],
   "source": [
    "def get_rx_norm_code(medication_codeable_concept_coding):\n",
    "    # Bonus points for error checking for medicationReference!\n",
    "    return next(coding['code'] for coding in medication_codeable_concept_coding if coding['system'] == 'http://www.nlm.nih.gov/research/umls/rxnorm')\n",
    "\n",
    "get_rx_norm_code(prescriptions[0]['medicationCodeableConcept']['coding'])"
   ]
  },
  {
   "cell_type": "code",
   "execution_count": null,
   "metadata": {},
   "outputs": [],
   "source": [
    "rxcodes = pd.Series([codings['code'] for MedicationRequest in prescriptions for codings in MedicationRequest['medicationCodeableConcept']['coding']], name='rxcode')\n",
    "dfcode = rxcodes.to_frame()\n",
    "dfcode.head()"
   ]
  },
  {
   "cell_type": "markdown",
   "metadata": {},
   "source": [
    "Let's now consolidate our dataframe to retain the information we need. Specifically we'll need information identifying the patient, an indication on whether or not the prescription is active or not (as only active prescriptions could cause a drug interaction, and finally the RXCUI code we previously extracted. \n",
    "\n",
    "Construct your final dataframe and then output the result to confirm you've retained the desired information."
   ]
  },
  {
   "cell_type": "code",
   "execution_count": null,
   "metadata": {
    "scrolled": true
   },
   "outputs": [],
   "source": [
    "# `.apply` Approach\n",
    "df_prescriptions['rxcode'] = df_prescriptions['medicationCodeableConcept.coding'].apply(get_rx_norm_code)\n",
    "# `.map` Approach\n",
    "#df_prescriptions['rxcode'] = df_prescriptions['medicationCodeableConcept.coding'].map(lambda c: get_rx_norm_code(c))\n",
    "\n",
    "rx_df = df_prescriptions[['subject.reference', 'status', 'rxcode']]\n",
    "rx_df.head()"
   ]
  },
  {
   "cell_type": "markdown",
   "metadata": {},
   "source": [
    "### Filter data to only include active prescriptions\n",
    "\n",
    "We want to ensure that we're only querying active prescriptions. If a patient is no longer taking a drug, the risk of a Drug-on-Drug interaction is no longer applicable. If any inactive prescriptions are present, then filter your dataframe to ensure that only active prescrptions are included. \n",
    "\n",
    "We can do this by calling the Pandas `value_counts()` method on the column to determine what statuses are present and in what numbers, or even simply calling the pandas `unique()` method to determine the presence of any inactive prescriptions in our dataframe. \n",
    "\n",
    "\n",
    "📘[Review the Pandas value_counts() documentation](https://pandas.pydata.org/docs/reference/api/pandas.Series.value_counts.html)\n",
    "\n",
    "📘[Review Pandas unique() documentation](https://pandas.pydata.org/docs/reference/api/pandas.Series.unique.html)\n"
   ]
  },
  {
   "cell_type": "markdown",
   "metadata": {},
   "source": [
    "### Question 3.5 \n",
    " 🖐 Using either of these methods, confirm that there are only active prescriptions in your data frame."
   ]
  },
  {
   "cell_type": "code",
   "execution_count": null,
   "metadata": {},
   "outputs": [],
   "source": []
  },
  {
   "cell_type": "markdown",
   "metadata": {},
   "source": [
    "It is worth noting that a more complex analysis might also take `MedicationRequest.dispenseRequest.initialFill`, `MedicationRequest.dispenseRequest.dispenseInterval`, and `MedicationRequest.dispenseRequest.validityPeriod` into account since an active medication may also define a `MedicationRequest` for the future which has yet to be prescribed and some medications may not be taken concurrently."
   ]
  },
  {
   "attachments": {
    "5dcc492d-0e29-4a6e-95a6-44c5ed7480c9.png": {
     "image/png": "[encoded data removed]"
    }
   },
   "cell_type": "markdown",
   "metadata": {},
   "source": [
    "### Merge our prescriptions into a list by patient\n",
    "\n",
    "We now need to create a list of drug codes for each patient, in order to feed that list into the RXNav API. \n",
    "\n",
    "Our desired output will look something like this where we have a tuple-like structure of patient ID, and a list of codes:\n",
    "\n",
    "![Screen Shot 2022-02-18 at 3.53.35 PM.png](attachment:5dcc492d-0e29-4a6e-95a6-44c5ed7480c9.png)\n",
    "\n",
    "Hint: to accomplish this try modifying the groupby function to merge our drugs by patient, and then apply a lambda function, to append the code values to a list.\n",
    "\n",
    "\n",
    "📘[Review Pandas groupby() documentation](https://pandas.pydata.org/docs/reference/api/pandas.DataFrame.groupby.html)"
   ]
  },
  {
   "cell_type": "markdown",
   "metadata": {},
   "source": [
    "### Question 3.6 \n",
    " 🖐 Fill in the appropriate columns to create a list of RxNorm Codes for each patient."
   ]
  },
  {
   "cell_type": "code",
   "execution_count": null,
   "metadata": {},
   "outputs": [],
   "source": [
    "# HINT: What column do we want to group by? and which column values do we want as a list?\n",
    "groups_by_patient = rx_df.groupby('FILLMEIN', sort=False)['FILLMEIN'].apply(list)\n",
    "groups_by_patient = pd.DataFrame({'patient':groups_by_patient.index, 'rxcode_list':groups_by_patient.values})\n",
    "groups_by_patient.head()"
   ]
  },
  {
   "cell_type": "markdown",
   "metadata": {},
   "source": [
    "So now we've generated a list of active prescriptions for each patient, we can append this list to the RXNav query and determine whether each of these patients are at risk for a drug interaction."
   ]
  },
  {
   "cell_type": "markdown",
   "metadata": {},
   "source": [
    "## Step 4: Loop through our entire cohort and determine each patient's drug interactions\n",
    "\n",
    "To recap: we now have a list of patients with associated drug codes in list form, and we know how to query the RXNav API to determine if a drug interaction exists. \n",
    "\n",
    "As a last step, create a series of functions to iterate through our patient list and for each patient return whether or not a Drug on Drug interaction could occur.\n",
    "\n",
    "It might help to compose a helper function for taking a string of RXCodes (e.g., `123456+654321`) and submit it to the API, and returns the result as a formatted JSON. "
   ]
  },
  {
   "cell_type": "code",
   "execution_count": null,
   "metadata": {},
   "outputs": [],
   "source": [
    "# Function for calling NIH API\n",
    "def has_drug_interaction(drug_list):\n",
    "    drugs = \"+\".join(drug_list)\n",
    "    try:\n",
    "        url = 'https://rxnav.nlm.nih.gov/REST/interaction/list.json?rxcuis=' + drugs\n",
    "        response = s.get(url, headers={'accept': 'application/json'})\n",
    "        response_json = response.json()\n",
    "        return 'fullInteractionTypeGroup' in response_json\n",
    "    except Exception as e:\n",
    "        raise e"
   ]
  },
  {
   "cell_type": "markdown",
   "metadata": {},
   "source": [
    "### Question 3.7\n",
    "🖐 Test our original two drug combinations to ensure that it is outputting the expected responses. "
   ]
  },
  {
   "cell_type": "code",
   "execution_count": null,
   "metadata": {},
   "outputs": [],
   "source": [
    "# HINT: Note that this function takes as its input a list of strings\n",
    "# so it will have to be formatted that way"
   ]
  },
  {
   "attachments": {
    "d6a01b26-84c4-4352-b824-bf1b3948c059.png": {
     "image/png": "[encoded data removed]"
    }
   },
   "cell_type": "markdown",
   "metadata": {},
   "source": [
    "For this step you'll want to apply this method to each patient's list of RxNorm codes to detect a drug interaction.\n",
    "\n",
    "While you can choose how you want to format this, here is one possible output format you may want to build towards:\n",
    "\n",
    "![Screen Shot 2022-02-18 at 3.50.40 PM.png](attachment:d6a01b26-84c4-4352-b824-bf1b3948c059.png)"
   ]
  },
  {
   "cell_type": "markdown",
   "metadata": {},
   "source": [
    "### Question 3.8\n",
    " 🖐 Hint look how we used `apply` and `map` previously in Step 3. You could also use a `for` loop and `print` statements if you prefer."
   ]
  },
  {
   "cell_type": "code",
   "execution_count": null,
   "metadata": {},
   "outputs": [],
   "source": []
  },
  {
   "cell_type": "markdown",
   "metadata": {},
   "source": [
    "As a bonus consider some additional information you can output, such as keeping a running count of total interactions, or specific details about the interaction types."
   ]
  },
  {
   "cell_type": "markdown",
   "metadata": {},
   "source": [
    "## Summary\n",
    "\n",
    "This exercise demonstrates how FHIR data can interact with the broader ecosystem of healthcare data and resources to determine additional health care insights. Here we pulled data from multiple resources into a unified dataframe, and then modified how the data was stored in order to pass it through to a third-party API and determine health outcomes."
   ]
  }
 ],
 "metadata": {
  "kernelspec": {
   "display_name": "Python 3",
   "language": "python",
   "name": "python3"
  },
  "language_info": {
   "codemirror_mode": {
    "name": "ipython",
    "version": 3
   },
   "file_extension": ".py",
   "mimetype": "text/x-python",
   "name": "python",
   "nbconvert_exporter": "python",
   "pygments_lexer": "ipython3",
   "version": "3.7.4"
  }
 },
 "nbformat": 4,
 "nbformat_minor": 5
}
